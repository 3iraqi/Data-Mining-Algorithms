{
 "cells": [
  {
   "cell_type": "markdown",
   "id": "8d2a7b20",
   "metadata": {},
   "source": [
    "### Regration\n",
    "\n",
    "#### Linear  Regration"
   ]
  },
  {
   "cell_type": "code",
   "execution_count": 5,
   "id": "37a3043a",
   "metadata": {},
   "outputs": [],
   "source": [
    "#load data \n",
    "#linear regression\n",
    "import numpy as np\n",
    "from keras.datasets import boston_housing\n",
    "\n",
    "#load the data\n",
    "(X_train,y_train),(X_test,y_test)=boston_housing.load_data()"
   ]
  },
  {
   "cell_type": "code",
   "execution_count": 6,
   "id": "802ec3a1",
   "metadata": {},
   "outputs": [
    {
     "data": {
      "text/plain": [
       "LinearRegression()"
      ]
     },
     "execution_count": 6,
     "metadata": {},
     "output_type": "execute_result"
    }
   ],
   "source": [
    "#normalize the data\n",
    "mean=X_train.mean(axis=0)\n",
    "X_train-=mean\n",
    "std=X_train.std(axis=0)\n",
    "X_train/=std\n",
    "#normalize the test data\n",
    "X_test-=mean\n",
    "X_test/=std\n",
    "\n",
    "\n",
    "#remove unwanted features\n",
    "X_train=X_train[:,[1,2,4,5,6,7,8,9,10,11,12]]\n",
    "X_test=X_test[:,[1,2,4,5,6,7,8,9,10,11,12]]\n",
    "\n",
    "#linear regression\n",
    "\n",
    "from sklearn.linear_model import LinearRegression\n",
    "\n",
    "#train the model\n",
    "lr=LinearRegression()\n",
    "lr.fit(X_train,y_train)"
   ]
  },
  {
   "cell_type": "code",
   "execution_count": 7,
   "id": "41ef6794",
   "metadata": {},
   "outputs": [
    {
     "data": {
      "text/plain": [
       "array([ 9.70372105, 20.82102213, 21.23300814, 30.94081654, 26.18797092,\n",
       "       20.39331126, 28.229296  , 25.19016145, 21.18550442, 22.12210535,\n",
       "       19.59614936, 18.38998772, 16.55794941, 35.8535715 , 19.52218991,\n",
       "       19.49748455, 24.81167235, 20.89372737, 19.58744267, 19.5901602 ,\n",
       "       12.43189537, 16.62268884, 22.5329783 , 12.79937575, 21.38075711,\n",
       "       23.56995858, 29.51877228, 25.05774101, 12.54404459, 20.76288842,\n",
       "       23.34790267, 18.47506026, 32.31102223, 23.66583915, 19.37547566,\n",
       "        6.96132804, 14.90874521, 23.4226951 , 15.79093824, 27.34597718,\n",
       "       22.72549723, 28.77542731, 17.84813141, 34.96121208, 31.83132384,\n",
       "       24.94275424, 31.09739984, 18.32035544, 22.60357787, 24.5620477 ,\n",
       "       30.85971844, 19.23108409, 10.47934559, 13.78264249, 34.33536552,\n",
       "       27.90567861, 18.59464314, 40.66488321, 33.80889622, 25.23569953,\n",
       "       25.25213174, 20.61258326, 20.3393912 , 21.29514209, 24.96594293,\n",
       "       23.86456866, 17.0896683 , 26.96744249,  2.89263336, 13.54539789,\n",
       "       19.83691744, 24.02090561, 23.04257924,  7.74285041, 28.50601653,\n",
       "       21.46885822, 20.50556307, 25.09005607, 34.33222331,  7.09945225,\n",
       "       24.61616819, 37.48771032, 16.16545735, 18.30783034, 20.87386389,\n",
       "       19.13733091, 23.06514026, 22.44841579, 23.80923984, 28.70548278,\n",
       "       17.77462781, 16.05788089, 26.83672865, 28.60142723, 35.49053092,\n",
       "       21.13989343, 36.98589522, 34.18383247, 25.15022405, 38.56532363,\n",
       "       30.68222647, 26.06811545])"
      ]
     },
     "execution_count": 7,
     "metadata": {},
     "output_type": "execute_result"
    }
   ],
   "source": [
    "#predict the test data\n",
    "y_pred=lr.predict(X_test)\n",
    "y_pred"
   ]
  },
  {
   "cell_type": "code",
   "execution_count": 8,
   "id": "0d212885",
   "metadata": {},
   "outputs": [
    {
     "data": {
      "text/plain": [
       "0.7556861533965884"
      ]
     },
     "execution_count": 8,
     "metadata": {},
     "output_type": "execute_result"
    }
   ],
   "source": [
    "#calculate the accuracy\n",
    "accuracy=lr.score(X_test,y_test)\n",
    "accuracy"
   ]
  }
 ],
 "metadata": {
  "kernelspec": {
   "display_name": "Python 3 (ipykernel)",
   "language": "python",
   "name": "python3"
  },
  "language_info": {
   "codemirror_mode": {
    "name": "ipython",
    "version": 3
   },
   "file_extension": ".py",
   "mimetype": "text/x-python",
   "name": "python",
   "nbconvert_exporter": "python",
   "pygments_lexer": "ipython3",
   "version": "3.9.13"
  }
 },
 "nbformat": 4,
 "nbformat_minor": 5
}
